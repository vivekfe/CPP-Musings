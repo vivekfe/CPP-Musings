A Markov process is one in which what happens next is independent of what has gone before. 
The classic example is a Roulette Wheel: the history of results has no effect whatsoever on the
next spin (which is why casinos will happily advertise previous results, 'hot' and 'cold' numbers, and so on).
An example of a non-Markov process is Blackjack: what happens next depends on the cards that have gone before 
(which is why casinos ban writing at Blackjack tables and also frown upon 'card counting').

Markov process : Doesn't know what the value of something will be tomorrow and makes guesses of what tomorrows value of something is, based on its value today.

Martingale : The likely/expected/best guess of the value of something is exactly the same as its value today (last observation of it)

Example:

You have £100 in your wallet on Monday.

Markov process: The amount of money you will have in your wallet on Tuesday is best estimated by the amount you had on Monday, i.e. = £100, and money your wallet had on Sunday or Saturday or the week before etc etc doesn't add any help when you estimate the value on Tuesday. i.e. history beyond time(t) is irrelevant.

Key take away: The Markov process will make several estimates for the money in the wallet and all those estimates will be based on Mondays value and not any other previous amount you had prior to Monday.

Martingale: The best estimate of the money in your wallet on Tuesday is exactly = £100. i.e. Mondays value.

Key take away: Best estimate of Future value is EXACTLY equal to TODAYS value.(no other past historical information required).

Key Difference and similarities:

Similarities: Both markov and martingale, don't look beyond the current/todays values when trying to predict/estimate/guess future values.

Differences: One gives me an exact estimate (martingale) and this estimate is exactly equal to todays/current value.

The other gives me guidance on what information should I consider when making estimates(using transition probabilities) of future values. (Markov)
